{
 "cells": [
  {
   "cell_type": "code",
   "execution_count": 2,
   "metadata": {},
   "outputs": [],
   "source": [
    "import tensorflow as tf\n",
    "tf.logging.set_verbosity(tf.logging.ERROR)\n",
    "import os\n",
    "import time\n",
    "import contextlib\n",
    "import numpy as np\n",
    "import cv2\n",
    "from utils import VideoStream\n",
    "from tensorflow.keras.models import load_model\n",
    "from tensorflow.keras.utils import to_categorical\n",
    "from models import preprocess_input, dice\n",
    "from config import imshape, model_name, n_classes\n",
    "from utils import add_masks, crf\n",
    "with contextlib.redirect_stdout(None):\n",
    "    import pygame\n"
   ]
  },
  {
   "cell_type": "code",
   "execution_count": 6,
   "metadata": {},
   "outputs": [
    {
     "name": "stdout",
     "output_type": "stream",
     "text": [
      "[[[ 74  59  50]\n",
      "  [ 73  57  47]\n",
      "  [ 71  53  45]\n",
      "  ...\n",
      "  [153 146 149]\n",
      "  [164 160 167]\n",
      "  [174 173 182]]\n",
      "\n",
      " [[ 72  56  48]\n",
      "  [ 70  53  44]\n",
      "  [ 75  56  48]\n",
      "  ...\n",
      "  [152 146 150]\n",
      "  [160 157 165]\n",
      "  [166 164 176]]\n",
      "\n",
      " [[ 69  55  46]\n",
      "  [ 73  57  48]\n",
      "  [ 77  61  51]\n",
      "  ...\n",
      "  [155 150 155]\n",
      "  [162 159 170]\n",
      "  [161 158 173]]\n",
      "\n",
      " ...\n",
      "\n",
      " [[164 156 158]\n",
      "  [169 161 163]\n",
      "  [172 164 166]\n",
      "  ...\n",
      "  [159 145 142]\n",
      "  [162 147 143]\n",
      "  [161 148 143]]\n",
      "\n",
      " [[163 154 157]\n",
      "  [164 156 159]\n",
      "  [171 163 163]\n",
      "  ...\n",
      "  [162 149 144]\n",
      "  [163 150 145]\n",
      "  [163 149 144]]\n",
      "\n",
      " [[164 155 157]\n",
      "  [168 159 161]\n",
      "  [171 162 163]\n",
      "  ...\n",
      "  [158 144 141]\n",
      "  [160 147 142]\n",
      "  [161 147 143]]]\n"
     ]
    }
   ],
   "source": [
    "RUN = True\n",
    "MODE = 'softmax'\n",
    "CALC_CRF = False\n",
    "BACKGROUND = False\n",
    "\n",
    "frame_shape = (640, 480)\n",
    "target_shape = imshape[:2]\n",
    "d_width = target_shape[0] // 2\n",
    "d_height = target_shape[1] // 2\n",
    "x0 = 0\n",
    "y0 = 0\n",
    "x1 = imshape[0]\n",
    "y1 = imshape[1]\n",
    "\n",
    "\n",
    "model = load_model(os.path.join('models', model_name+'.model'),\n",
    "                   custom_objects={'dice': dice})\n",
    "frame = cv2.imread('test_11_25.png',cv2.IMREAD_COLOR) ### Image read vs need to be changed\n",
    "cv2.imshow(\"OpenCV Image Reading\", frame)\n",
    "cv2.waitKey(0)\n",
    "cv2.destroyAllWindows()\n",
    "print(frame)\n",
    "frame = cv2.cvtColor(frame, cv2.COLOR_BGR2HSV)\n",
    "im = frame.copy()\n",
    "\n",
    "roi = im[x0:x1, y0:y1]\n",
    "tmp = np.expand_dims(roi, axis=0)\n",
    "roi_pred = model.predict(tmp)\n",
    "\n",
    "roi_mask = add_masks(roi_pred.squeeze()*255.0)\n",
    "\n",
    "\n",
    "cv2.imshow(\"Predicted\", roi_mask)\n",
    "cv2.waitKey(0)\n",
    "cv2.destroyAllWindows()"
   ]
  },
  {
   "cell_type": "code",
   "execution_count": 4,
   "metadata": {},
   "outputs": [],
   "source": [
    "\n"
   ]
  },
  {
   "cell_type": "code",
   "execution_count": null,
   "metadata": {},
   "outputs": [],
   "source": []
  }
 ],
 "metadata": {
  "kernelspec": {
   "display_name": "shapes3.6",
   "language": "python",
   "name": "shapes3.6"
  },
  "language_info": {
   "codemirror_mode": {
    "name": "ipython",
    "version": 3
   },
   "file_extension": ".py",
   "mimetype": "text/x-python",
   "name": "python",
   "nbconvert_exporter": "python",
   "pygments_lexer": "ipython3",
   "version": "3.6.10"
  }
 },
 "nbformat": 4,
 "nbformat_minor": 2
}
